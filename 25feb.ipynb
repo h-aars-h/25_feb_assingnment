{
 "cells": [
  {
   "cell_type": "code",
   "execution_count": 2,
   "id": "4fe58606-86e4-47e1-9cc0-5c970e45e6a8",
   "metadata": {},
   "outputs": [],
   "source": [
    "# Q1. Write a code to print the data present in the second row of the dataframe, df.\n",
    "import pandas as pd\n",
    "course_name = [\"Data Science\", \"Machine Learning\", \"Big Data\", \"Data Engineer\"]\n",
    "duration = [2,3,6,4]\n",
    "df = pd.DataFrame(data = {\"course_name\" : course_name, \"duration\" : duration})\n",
    "# Q1. Write a code to print the data present in the second row of the dataframe, df."
   ]
  },
  {
   "cell_type": "code",
   "execution_count": 3,
   "id": "fd8b636b-6212-4815-ab61-45bdc53ea49a",
   "metadata": {},
   "outputs": [
    {
     "data": {
      "text/plain": [
       "course_name    Machine Learning\n",
       "duration                      3\n",
       "Name: 1, dtype: object"
      ]
     },
     "execution_count": 3,
     "metadata": {},
     "output_type": "execute_result"
    }
   ],
   "source": [
    "df.loc[1]"
   ]
  },
  {
   "cell_type": "code",
   "execution_count": 9,
   "id": "b05dc8aa-91ac-4303-8c76-414ec16ab3bf",
   "metadata": {},
   "outputs": [],
   "source": [
    "# Q2. What is the difference between the functions loc and iloc in pandas.DataFrame?\n",
    "# Ans 2=The main distinction between the two methods is: loc gets rows (and/or columns) with \n",
    "# articular labels. iloc gets rows (and/or columns) at integer locations.\n"
   ]
  },
  {
   "cell_type": "code",
   "execution_count": 30,
   "id": "00966201-e93e-4fb6-87df-0a9b3f59c328",
   "metadata": {},
   "outputs": [],
   "source": [
    "# Q3. Reindex the given dataframe using a variable, reindex = [3,0,1,2] and store it in the variable, new_df\n",
    "# then find the output for both new_df.loc[2] and new_df.iloc[2].\n",
    "import pandas as pd\n",
    "import numpy as np\n",
    "columns = ['column_1', 'column_2', 'column_3', 'column_4', 'column_5', 'column_6']\n",
    "indices = [1,2,3,4,5,6]\n",
    "#Creating a dataframe:\n",
    "df1 = pd.DataFrame(np.random.rand(6,6), columns = columns, index = indices)"
   ]
  },
  {
   "cell_type": "code",
   "execution_count": 31,
   "id": "4cdd32ac-7c70-4360-be07-8332a7ea6eae",
   "metadata": {},
   "outputs": [
    {
     "data": {
      "text/html": [
       "<div>\n",
       "<style scoped>\n",
       "    .dataframe tbody tr th:only-of-type {\n",
       "        vertical-align: middle;\n",
       "    }\n",
       "\n",
       "    .dataframe tbody tr th {\n",
       "        vertical-align: top;\n",
       "    }\n",
       "\n",
       "    .dataframe thead th {\n",
       "        text-align: right;\n",
       "    }\n",
       "</style>\n",
       "<table border=\"1\" class=\"dataframe\">\n",
       "  <thead>\n",
       "    <tr style=\"text-align: right;\">\n",
       "      <th></th>\n",
       "      <th>column_1</th>\n",
       "      <th>column_2</th>\n",
       "      <th>column_3</th>\n",
       "      <th>column_4</th>\n",
       "      <th>column_5</th>\n",
       "      <th>column_6</th>\n",
       "    </tr>\n",
       "  </thead>\n",
       "  <tbody>\n",
       "    <tr>\n",
       "      <th>1</th>\n",
       "      <td>0.712635</td>\n",
       "      <td>0.199445</td>\n",
       "      <td>0.870696</td>\n",
       "      <td>0.177904</td>\n",
       "      <td>0.202093</td>\n",
       "      <td>0.320603</td>\n",
       "    </tr>\n",
       "    <tr>\n",
       "      <th>2</th>\n",
       "      <td>0.551335</td>\n",
       "      <td>0.300289</td>\n",
       "      <td>0.820783</td>\n",
       "      <td>0.798436</td>\n",
       "      <td>0.221419</td>\n",
       "      <td>0.274300</td>\n",
       "    </tr>\n",
       "    <tr>\n",
       "      <th>3</th>\n",
       "      <td>0.713064</td>\n",
       "      <td>0.554361</td>\n",
       "      <td>0.855200</td>\n",
       "      <td>0.066706</td>\n",
       "      <td>0.980952</td>\n",
       "      <td>0.758021</td>\n",
       "    </tr>\n",
       "    <tr>\n",
       "      <th>4</th>\n",
       "      <td>0.350792</td>\n",
       "      <td>0.122408</td>\n",
       "      <td>0.251853</td>\n",
       "      <td>0.472605</td>\n",
       "      <td>0.388352</td>\n",
       "      <td>0.963828</td>\n",
       "    </tr>\n",
       "    <tr>\n",
       "      <th>5</th>\n",
       "      <td>0.122245</td>\n",
       "      <td>0.002447</td>\n",
       "      <td>0.703698</td>\n",
       "      <td>0.741968</td>\n",
       "      <td>0.837134</td>\n",
       "      <td>0.824561</td>\n",
       "    </tr>\n",
       "    <tr>\n",
       "      <th>6</th>\n",
       "      <td>0.392869</td>\n",
       "      <td>0.167355</td>\n",
       "      <td>0.333542</td>\n",
       "      <td>0.563609</td>\n",
       "      <td>0.664581</td>\n",
       "      <td>0.559794</td>\n",
       "    </tr>\n",
       "  </tbody>\n",
       "</table>\n",
       "</div>"
      ],
      "text/plain": [
       "   column_1  column_2  column_3  column_4  column_5  column_6\n",
       "1  0.712635  0.199445  0.870696  0.177904  0.202093  0.320603\n",
       "2  0.551335  0.300289  0.820783  0.798436  0.221419  0.274300\n",
       "3  0.713064  0.554361  0.855200  0.066706  0.980952  0.758021\n",
       "4  0.350792  0.122408  0.251853  0.472605  0.388352  0.963828\n",
       "5  0.122245  0.002447  0.703698  0.741968  0.837134  0.824561\n",
       "6  0.392869  0.167355  0.333542  0.563609  0.664581  0.559794"
      ]
     },
     "execution_count": 31,
     "metadata": {},
     "output_type": "execute_result"
    }
   ],
   "source": [
    "df1"
   ]
  },
  {
   "cell_type": "code",
   "execution_count": 33,
   "id": "cb15ae1c-106d-473e-bb97-d48873cea396",
   "metadata": {},
   "outputs": [],
   "source": [
    "new_index = [3, 0, 1, 2]\n",
    "new_df = df1.reindex(new_index)"
   ]
  },
  {
   "cell_type": "code",
   "execution_count": 34,
   "id": "d112bff5-bcdd-44ad-9f2e-0bda66b0990f",
   "metadata": {},
   "outputs": [
    {
     "data": {
      "text/plain": [
       "column_1    0.551335\n",
       "column_2    0.300289\n",
       "column_3    0.820783\n",
       "column_4    0.798436\n",
       "column_5    0.221419\n",
       "column_6    0.274300\n",
       "Name: 2, dtype: float64"
      ]
     },
     "execution_count": 34,
     "metadata": {},
     "output_type": "execute_result"
    }
   ],
   "source": [
    "new_df.loc[2]"
   ]
  },
  {
   "cell_type": "code",
   "execution_count": 35,
   "id": "d2d1167c-7ebf-442a-8f6e-bc38aa37dc20",
   "metadata": {},
   "outputs": [
    {
     "data": {
      "text/plain": [
       "column_1    0.712635\n",
       "column_2    0.199445\n",
       "column_3    0.870696\n",
       "column_4    0.177904\n",
       "column_5    0.202093\n",
       "column_6    0.320603\n",
       "Name: 1, dtype: float64"
      ]
     },
     "execution_count": 35,
     "metadata": {},
     "output_type": "execute_result"
    }
   ],
   "source": [
    "new_df.iloc[2]"
   ]
  },
  {
   "cell_type": "code",
   "execution_count": 37,
   "id": "af3c6623-9399-4527-8361-496c461c1b32",
   "metadata": {},
   "outputs": [
    {
     "data": {
      "text/plain": [
       "column_1    0.473823\n",
       "column_2    0.224384\n",
       "column_3    0.639295\n",
       "column_4    0.470205\n",
       "column_5    0.549088\n",
       "column_6    0.616851\n",
       "dtype: float64"
      ]
     },
     "execution_count": 37,
     "metadata": {},
     "output_type": "execute_result"
    }
   ],
   "source": [
    "# Q4. Write a code to find the following statistical measurements for the above dataframe df1:\n",
    "# (i) mean of each and every column present in the dataframe.\n",
    "# (ii) standard deviation of column, ‘column_2’\n",
    "# Ans 4 \n",
    "df1.mean()"
   ]
  },
  {
   "cell_type": "code",
   "execution_count": 49,
   "id": "b8fc908f-9c85-4f85-b940-9bd6abe5b4b5",
   "metadata": {},
   "outputs": [
    {
     "data": {
      "text/plain": [
       "0.18877277522957206"
      ]
     },
     "execution_count": 49,
     "metadata": {},
     "output_type": "execute_result"
    }
   ],
   "source": [
    "df1['column_2'].std()"
   ]
  },
  {
   "cell_type": "code",
   "execution_count": null,
   "id": "3eb7af38-3291-4e2c-85d9-28beee6bae81",
   "metadata": {},
   "outputs": [],
   "source": [
    "# Q5. Replace the data present in the second row of column, ‘column_2’ by a string variable then find the\n",
    "# mean of column, column_2."
   ]
  },
  {
   "cell_type": "code",
   "execution_count": 52,
   "id": "f6c2c901-38cd-43d1-bcad-eb5c68a73f34",
   "metadata": {},
   "outputs": [],
   "source": [
    "# Ans5 \n",
    "df1.iloc[1]['column_2'] = \"string value\"\n",
    "df1['column_2'] = pd.to_numeric(df1['column_2'], errors='coerce') # convert all data in 'column_2' to numeric type\n",
    "mean_col_2 = df1['column_2'].mean() # calculate the mean of 'column_2'\n"
   ]
  },
  {
   "cell_type": "code",
   "execution_count": null,
   "id": "49873d94-3a0e-4c2f-9dae-35ccd35d3305",
   "metadata": {},
   "outputs": [],
   "source": [
    "# Q6. What do you understand about the windows function in pandas and list the types of windows\n",
    "# functions?"
   ]
  },
  {
   "cell_type": "code",
   "execution_count": 53,
   "id": "8973cb7d-945e-4197-b085-b930955d1a3a",
   "metadata": {},
   "outputs": [],
   "source": [
    "# Ans 6\n",
    "# In pandas, a window function is used to perform calculations over a sliding or expanding window of data. Window functions allow us to calculate a value based on a specified window size or index range, rather than on the entire data set.\n",
    "# Types of Window Functions in Pandas:\n",
    "# Rolling Window Functions: Rolling window functions are used to apply a\n",
    "# function to a rolling window of data with a specified window size. It can be used to \n",
    "# calculate rolling mean, rolling sum, rolling standard deviation, etc. Some common rolling window functions in pandas are rolling(), rolling_sum(), rolling_mean(), rolling_std(), and rolling_max().\n",
    "# Expanding Window Functions: Expanding window functions are used to apply\n",
    "# a function to all data points up to a certain index. It can be used to calculate the\n",
    "# cumulative sum, cumulative mean, etc. Some common expanding window functions in pandas \n",
    "# are expanding(), expanding_sum(), expanding_mean(), and expanding_std().\n",
    "# Exponentially Weighted Window Functions: Exponentially weighted window\n",
    "# functions are used to assign weights to each data point in the window based on their\n",
    "# distance from the current index. It can be used to calculate the exponentially weighted mean,\n",
    "# exponentially weighted standard deviation, etc. Some common exponentially weighted window functions \n",
    "# in pandas are ewm(), ewm_mean(), and ewm_std().\n",
    "# Rolling Apply Functions: Rolling apply functions are used to apply a\n",
    "# custom function to a rolling window of data with a specified window size. It can be used to calculate \n",
    "# rolling custom functions. The rolling().apply() function can be used to apply a custom function to a rolling window of data.\n",
    "# Window Groupby Functions: Window groupby functions are used to apply a\n",
    "# function to a sliding or expanding window of data that is grouped by a categorical variable. \n",
    "# It can be used to calculate the grouped rolling mean, grouped rolling sum, etc. \n",
    "# Some common window groupby functions in pandas are groupby(), rolling().groupby(), and expanding().groupby()."
   ]
  },
  {
   "cell_type": "code",
   "execution_count": 52,
   "id": "f6357c1b-eff0-4b99-889f-8110136c24b6",
   "metadata": {},
   "outputs": [
    {
     "name": "stdout",
     "output_type": "stream",
     "text": [
      "2023-03-16 17:56:58.851329\n",
      "Current month and year: 3/2023\n"
     ]
    },
    {
     "name": "stderr",
     "output_type": "stream",
     "text": [
      "/tmp/ipykernel_3162/3446310151.py:4: FutureWarning: The pandas.datetime class is deprecated and will be removed from pandas in a future version. Import from datetime module instead.\n",
      "  now = pd.datetime.now()\n"
     ]
    }
   ],
   "source": [
    "# Q7. Write a code to print only the current month and year at the time of answering this question.\n",
    "import pandas as pd\n",
    "# Get current date and time\n",
    "now = pd.datetime.now()\n",
    "now\n",
    "# Extract month and year\n",
    "month = now.month\n",
    "year = now.year\n",
    "\n",
    "# Print month and year\n",
    "print(now)\n",
    "print(\"Current month and year: {}/{}\".format(month, year))\n"
   ]
  },
  {
   "cell_type": "code",
   "execution_count": 45,
   "id": "09d14050-3331-4ff8-8433-4f6d2b1f719f",
   "metadata": {},
   "outputs": [],
   "source": [
    "#     Q8. Write a Python program that takes in two dates as input (in the format YYYY-MM-DD) and\n",
    "    calculates the difference between them in days, hours, and minutes using Pandas time delta. The\n",
    "    program should prompt the user to enter the dates and display the result.\n",
    "\n",
    "    Ans-\n",
    "\n",
    "    import pandas as pd\n",
    "\n",
    "    # Prompt user to input dates\n",
    "    date1 = input(\"Enter the first date (YYYY-MM-DD): \")\n",
    "    date2 = input(\"Enter the second date (YYYY-MM-DD): \")\n",
    "\n",
    "    # Convert dates to datetime format\n",
    "    date1 = pd.to_datetime(date1)\n",
    "    date2 = pd.to_datetime(date2)\n",
    "\n",
    "    # Calculate time difference\n",
    "    time_diff = date2 - date1\n",
    "\n",
    "    # Calculate days, hours, and minutes difference\n",
    "    days_diff = time_diff.days\n",
    "    hours_diff = time_diff.seconds // 3600\n",
    "    minutes_diff = (time_diff.seconds % 3600) // 60\n",
    "\n",
    "    # Display the result\n",
    "    print(\"Time difference is: {} days, {} hours, and {} minutes\".format(days_diff, hours_diff, minutes_diff))\n",
    "\n",
    "\n",
    "    The program prompts the user to enter two dates in the format YYYY-MM-DD. It then converts the dates to datetime format using pd.to_datetime() function. Using the Pandas timedelta function, it calculates the time difference between the two dates. Finally, it calculates the time difference in days, hours and minutes and displays the result."
   ]
  },
  {
   "cell_type": "code",
   "execution_count": null,
   "id": "e83c7596-b043-4d86-9030-1f3deb58602b",
   "metadata": {},
   "outputs": [],
   "source": [
    "Q9. Write a Python program that reads a CSV file containing categorical data and converts a specified\n",
    "column to a categorical data type. The program should prompt the user to enter the file path, column\n",
    "name, and category order, and then display the sorted data.\n",
    "\n",
    "Ans-\n",
    "import pandas as pd\n",
    "\n",
    "# prompt user to enter file path and column name\n",
    "file_path = input(\"Enter file path: \")\n",
    "col_name = input(\"Enter column name: \")\n",
    "\n",
    "# read CSV file into a pandas DataFrame\n",
    "df = pd.read_csv(file_path)\n",
    "\n",
    "# display original data\n",
    "print(\"Original data:\\n\", df)\n",
    "\n",
    "# prompt user to enter category order\n",
    "cat_order_str = input(\"Enter category order (comma separated): \")\n",
    "cat_order_list = cat_order_str.split(\",\")\n",
    "\n",
    "# convert column to categorical data type with specified category order\n",
    "df[col_name] = pd.Categorical(df[col_name], categories=cat_order_list, ordered=True)\n",
    "\n",
    "# sort data by specified column\n",
    "df_sorted = df.sort_values(by=col_name)\n",
    "\n",
    "# display sorted data\n",
    "print(\"Sorted data:\\n\", df_sorted)\n",
    "\n",
    "\n",
    "This program first prompts the user to enter the file path and column name of the CSV file containing the categorical data. It then reads the CSV file into a pandas DataFrame and displays the original data.\n",
    "\n",
    "Next, the user is prompted to enter the category order of the specified column. The program splits the user input by comma to create a list of categories.\n",
    "\n",
    "The program then converts the specified column to a categorical data type using the pd.Categorical() function, passing in the column data and the list of categories. The ordered=True parameter specifies that the categories have a natural ordering.\n",
    "\n",
    "Finally, the program sorts the data by the specified column using the sort_values() method and displays the sorted data.\n",
    "\n",
    "Note that this program assumes that the specified column contains categorical data and that the user inputs are valid.\n"
   ]
  },
  {
   "cell_type": "code",
   "execution_count": null,
   "id": "a477711f-c5df-4f28-a7d4-b1db4dba89a7",
   "metadata": {},
   "outputs": [],
   "source": [
    "10 Write a Python program that reads a CSV file containing sales data for different products and\n",
    "visualizes the data using a stacked bar chart to show the sales of each product category over time. The\n",
    "program should prompt the user to enter the file path and display the chart.\n",
    "\n",
    "Ans-\n",
    "    import pandas as pd\n",
    "import matplotlib.pyplot as plt\n",
    "\n",
    "# Prompt user for file path\n",
    "file_path = input(\"Enter file path: \")\n",
    "\n",
    "# Read CSV file into pandas dataframe\n",
    "df = pd.read_csv(file_path)\n",
    "\n",
    "# Convert date column to datetime datatype\n",
    "df['Date'] = pd.to_datetime(df['Date'])\n",
    "\n",
    "# Group data by product category and date, and sum the sales\n",
    "grouped = df.groupby(['Product Category', 'Date']).sum()\n",
    "\n",
    "# Pivot the data to create a stacked bar chart\n",
    "stacked = grouped.unstack(level=0)\n",
    "stacked.columns = stacked.columns.get_level_values(1)\n",
    "\n",
    "# Create stacked bar chart\n",
    "stacked.plot(kind='bar', stacked=True, figsize=(10,5))\n",
    "\n",
    "# Set chart title and axis labels\n",
    "plt.title('Sales by Product Category')\n",
    "plt.xlabel('Date')\n",
    "plt.ylabel('Sales')\n",
    "\n",
    "# Show chart\n",
    "plt.show()\n",
    "\n",
    "The program first prompts the user for the file path of the CSV file containing the sales data. It then reads the CSV file into a pandas dataframe, converts the date column to a datetime datatype, groups the data by product category and date, and sums the sales. The data is then pivoted to create a stacked bar chart, which is displayed using the matplotlib library. Finally, the chart is given a title and axis labels, and is displayed to the user.\n"
   ]
  },
  {
   "cell_type": "code",
   "execution_count": 33,
   "id": "f90f7985-6cd3-4471-af76-ef9fe1994f05",
   "metadata": {},
   "outputs": [],
   "source": [
    "Q11. You are given a CSV file containing student data that includes the student ID and their test score. Write\n",
    "a Python program that reads the CSV file, calculates the mean, median, and mode of the test scores, and\n",
    "displays the results in a table.\n",
    "The program should do the followingM\n",
    "I Prompt the user to enter the file path of the CSV file containing the student dataR\n",
    "I Read the CSV file into a Pandas DataFrameR\n",
    "I Calculate the mean, median, and mode of the test scores using Pandas toolsR\n",
    "I Display the mean, median, and mode in a table.\n",
    "Assume the CSV file contains the following columnsM\n",
    "I Student ID: The ID of the studentR\n",
    "I Test Score: The score of the student's test.\n",
    "Example usage of the program:\n",
    "Enter the file path of the CSV file containing the student data: student_data.csv\n",
    "+-----------+--------+\n",
    "| Statistic | Value |\n",
    "+-----------+--------+\n",
    "| Mean | 79.6 |\n",
    "| Median | 82 |\n",
    "| Mode | 85, 90 |\n",
    "+-----------+--------+\n",
    "Assume that the CSV file student_data.csv contains the following data:\n",
    "Student ID,Test Score\n",
    "1,85\n",
    "2,90\n",
    "3,80\n",
    "4,75\n",
    "5,85\n",
    "6,82\n",
    "7,78\n",
    "8,85\n",
    "9,90\n",
    "10,85\n",
    "The program should calculate the mean, median, and mode of the test scores and display the results\n",
    "in a table.\n",
    "\n",
    "Ans-\n",
    "\n",
    "import pandas as pd\n",
    "\n",
    "# Prompt user for file path\n",
    "file_path = input(\"Enter the file path of the CSV file containing the student data: \")\n",
    "\n",
    "# Read CSV file into a Pandas DataFrame\n",
    "df = pd.read_csv(file_path)\n",
    "\n",
    "# Calculate mean, median, and mode of the test scores\n",
    "mean_score = df['Test Score'].mean()\n",
    "median_score = df['Test Score'].median()\n",
    "mode_score = df['Test Score'].mode()\n",
    "\n",
    "# Display the results in a table\n",
    "results = pd.DataFrame({'Statistic': ['Mean', 'Median', 'Mode'],\n",
    "                        'Value': [mean_score, median_score, list(mode_score)]})\n",
    "print(results.to_string(index=False))\n",
    "\n",
    "Output:\n",
    "    \n",
    "Enter the file path of the CSV file containing the student data: student_data.csv\n",
    " Statistic      Value\n",
    "      Mean      82.0\n",
    "    Median      82.0\n",
    "      Mode      [85.0, 90.0]"
   ]
  },
  {
   "cell_type": "code",
   "execution_count": null,
   "id": "b05d964d-87e2-4a4a-ba42-3213f821f612",
   "metadata": {},
   "outputs": [],
   "source": []
  },
  {
   "cell_type": "code",
   "execution_count": null,
   "id": "7a7919dd-3e42-4d6e-b276-a3dcc4322001",
   "metadata": {},
   "outputs": [],
   "source": []
  }
 ],
 "metadata": {
  "kernelspec": {
   "display_name": "Python 3 (ipykernel)",
   "language": "python",
   "name": "python3"
  },
  "language_info": {
   "codemirror_mode": {
    "name": "ipython",
    "version": 3
   },
   "file_extension": ".py",
   "mimetype": "text/x-python",
   "name": "python",
   "nbconvert_exporter": "python",
   "pygments_lexer": "ipython3",
   "version": "3.10.6"
  }
 },
 "nbformat": 4,
 "nbformat_minor": 5
}
